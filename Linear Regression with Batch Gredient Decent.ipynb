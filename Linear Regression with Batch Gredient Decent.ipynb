{
 "cells": [
  {
   "cell_type": "code",
   "execution_count": null,
   "id": "40db5101",
   "metadata": {},
   "outputs": [],
   "source": [
    "#class for linear regression with Batch Gredient Decent\n",
    "import numpy as np\n",
    "import pandas as pd\n",
    "from sklearn.metrics import r2_score,mean_absolute_error\n",
    "class Linear_class:\n",
    "    \n",
    "    def __init__(self,shape,epoch,learning_rate):\n",
    "        self.epoch = epoch\n",
    "        self.shape = shape\n",
    "        self.learning_rate = learning_rate\n",
    "        self.coef_=np.ones(shape)\n",
    "        self.intercept_=0\n",
    "        \n",
    "        \n",
    "    def fit(self,X_train,y_train):\n",
    "        for loop in range(self.epoch):\n",
    "            self.y_pred=self.intercept_+np.dot(X_train,self.coef_)\n",
    "            slope_intercept=-2*np.mean(y_train-self.y_pred)\n",
    "            self.intercept_ = self.intercept_ - self.learning_rate*slope_intercept\n",
    "            coef_slope=(-2*np.dot((y_train-self.y_pred),X_train))/X_train.shape[1]\n",
    "            self.coef_=self.coef_-self.learning_rate*coef_slope\n",
    "            \n",
    "    def predict(self,X_test):\n",
    "        self.ypred=self.intercept_+np.dot(X_test,self.coef_)\n",
    "        return self.ypred\n",
    "    def R2_score(self,y_test):\n",
    "        return r2_score(y_test,self.ypred)\n",
    "        \n",
    "    def MSE(self,y_test):\n",
    "        return mean_absolute_error(y_test,self.ypred)\n",
    "        \n",
    "    \n",
    "    \n",
    "lc=Linear_class(X_train.shape[1],10,.001)"
   ]
  }
 ],
 "metadata": {
  "kernelspec": {
   "display_name": "Python 3",
   "language": "python",
   "name": "python3"
  },
  "language_info": {
   "codemirror_mode": {
    "name": "ipython",
    "version": 3
   },
   "file_extension": ".py",
   "mimetype": "text/x-python",
   "name": "python",
   "nbconvert_exporter": "python",
   "pygments_lexer": "ipython3",
   "version": "3.11.5"
  },
  "varInspector": {
   "cols": {
    "lenName": 16,
    "lenType": 16,
    "lenVar": 40
   },
   "kernels_config": {
    "python": {
     "delete_cmd_postfix": "",
     "delete_cmd_prefix": "del ",
     "library": "var_list.py",
     "varRefreshCmd": "print(var_dic_list())"
    },
    "r": {
     "delete_cmd_postfix": ") ",
     "delete_cmd_prefix": "rm(",
     "library": "var_list.r",
     "varRefreshCmd": "cat(var_dic_list()) "
    }
   },
   "types_to_exclude": [
    "module",
    "function",
    "builtin_function_or_method",
    "instance",
    "_Feature"
   ],
   "window_display": false
  }
 },
 "nbformat": 4,
 "nbformat_minor": 5
}
